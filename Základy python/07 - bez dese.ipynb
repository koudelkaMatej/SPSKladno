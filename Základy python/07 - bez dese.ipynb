{
 "cells": [
  {
   "cell_type": "markdown",
   "metadata": {
    "id": "DQOathFyZtr4"
   },
   "source": []
  },
  {
   "cell_type": "code",
   "execution_count": null,
   "metadata": {
    "id": "FIa-YR15ZyUp"
   },
   "outputs": [],
   "source": [
    "#TODO\n"
   ]
  },
  {
   "cell_type": "markdown",
   "metadata": {
    "id": "0Emcs3DswX_h"
   },
   "source": [
    "<h1>While</h1>\n",
    "<p>Řídící struktura \"while\" je takzvaný cyklus.<br>Cyklus, jak název napovídá, opakuje část kódu (skupinu příkazů) stále dokola. Hodí se tedy tam, kde chceme stejnou skupinu příkazů provést opakovaně.</p>\n",
    "<p>Během jednotlivých \"koleček\" (průběhů cyklem) se samozřejmě může měnit hodnota různých proměnných, a tak se v každém průběhu cyklem může výsledek operací lišit.</p>"
   ]
  },
  {
   "cell_type": "markdown",
   "metadata": {
    "id": "CvOwZNtFyURp"
   },
   "source": [
    "<h2>Syntaxe a sémantika</h2>\n",
    "<p>Syntaxe while cyklu vypadá následovně:</p>\n",
    "<pre>while podmínka:\n",
    "  příkaz v těle while\n",
    "  případně další příkaz\n",
    "  a ještě další příkaz\n",
    "příkaz mimo while</pre>"
   ]
  },
  {
   "cell_type": "markdown",
   "metadata": {
    "id": "_V5POFbfRnD7"
   },
   "source": [
    "<p>Sémantika:<br>Program zkontroluje podmínku - pokud je splněná, pokračuje v těle while-cyklu příkazem, dalším příkazem, ještě dalším příkazem a poté znovu zkontroluje podmínku - pokud je splněná, znovu vstoupí do těla while-cyklu atd., pokud podmínka splněná není (ve chvíli kdy se kontroluje), pokračuje program dále - příkazem mimo while a již se zpět nevrací.</p>"
   ]
  },
  {
   "cell_type": "markdown",
   "metadata": {
    "id": "VJEe6CMrXGu-"
   },
   "source": [
    "<h2>Ukázka použití</h2>\n",
    "<p>Následující ukázka realizuje slavný <a href=\"https://cs.wikipedia.org/wiki/Collatz%C5%AFv_probl%C3%A9m\">3n+1 problém</a> </p>"
   ]
  },
  {
   "cell_type": "code",
   "execution_count": null,
   "metadata": {
    "colab": {
     "base_uri": "https://localhost:8080/"
    },
    "executionInfo": {
     "elapsed": 253,
     "status": "ok",
     "timestamp": 1729066516422,
     "user": {
      "displayName": "Matej Koudelka",
      "userId": "04954565181098885683"
     },
     "user_tz": -120
    },
    "id": "SC8t1s_WwVSf",
    "outputId": "347391a7-8afb-43ea-dc72-45fb2abb71e8"
   },
   "outputs": [
    {
     "name": "stdout",
     "output_type": "stream",
     "text": [
      "Počáteční hodnota: 5\n",
      "Další krok: 16\n",
      "Další krok: 8\n",
      "Další krok: 4\n",
      "Další krok: 2\n",
      "Další krok: 1\n",
      "Konec\n"
     ]
    }
   ],
   "source": [
    "x = 5\n",
    "print(\"Počáteční hodnota:\",x)\n",
    "while x > 1: # pokud je číslo jedna (nebo méně) - ukonči cyklus, pokud je číslo větši než jedna - pokračuj do těla cyklu\n",
    "  if x%2 == 0: # sudá čísla vyděl dvěma\n",
    "    x = x//2\n",
    "  else: # lichá čísla vynásob třemi a přičti jedna\n",
    "    x = 3*x+1\n",
    "  print(\"Další krok:\",x) # vždy vytiskni aktuální stav čísla\n",
    "print(\"Konec\")"
   ]
  },
  {
   "cell_type": "markdown",
   "metadata": {
    "id": "L6VWob6nfDRO"
   },
   "source": [
    "<h1>Pár detailů</h1>\n",
    "<h2>pass</h2>\n",
    "<p>Uvnitř těla cyklu musí být vždy alespoň jeden příkaz. Pokud si chceme pouze předpřipravit cyklus a zatím ho nechat prázdný, musíme do jeho těla napsat klíčové slovo \"pass\"</p>"
   ]
  },
  {
   "cell_type": "code",
   "execution_count": null,
   "metadata": {
    "id": "VFCKK-fply5f"
   },
   "outputs": [],
   "source": [
    "x = 0\n",
    "while x > 10:\n",
    "  pass # ještě nevím, co tu uvnitř budu dělat - zkuste tento řádek smazat\n",
    "print(\"Konec\")"
   ]
  },
  {
   "cell_type": "markdown",
   "metadata": {
    "id": "PhoZ9qdUf0XM"
   },
   "source": [
    "<h2>Nekonečný cyklus</h2>\n",
    "<p>Při psaní while cyklu se snadno stane, že člověk nepohlídá jednu <strong>velmi důležitou věc</strong>:<br>While poběží do té doby, dokud je podmínka splněná (True) - pokud nezajistíme, aby někdy splněna nebyla (takže nikdy nebude False - bude stále True), cyklus nikdy neskončí a program poběží donekonečna.<br>To někdy chceme (napříkad některé hry běží, dokud je neukončí uživatel kliknutím na zavírací křížek), většinou však chceme aby program sám v nějakou chvíli ukončil výpočet a zobrazil nám výsledek.</p>\n"
   ]
  },
  {
   "cell_type": "code",
   "execution_count": null,
   "metadata": {
    "id": "_dKHEmfZfmAl"
   },
   "outputs": [],
   "source": [
    "x = 0\n",
    "while x > 10: # zkuste otočit znaménko -> tím bude podmínka vždy splněna (v x je stále nula a nula bude vždy menší než deset)\n",
    "  pass\n",
    "print(\"Konec\")"
   ]
  },
  {
   "cell_type": "markdown",
   "metadata": {
    "id": "KMQR0XLpwWlB"
   },
   "source": [
    "<h1>Cvičení</h1>"
   ]
  },
  {
   "cell_type": "markdown",
   "metadata": {
    "id": "mA1-q0a4e4qA"
   },
   "source": [
    "<h2>1</h2>\n",
    "<p>Upravte kód níže tak, aby na závěr vytiskl také délku výpočtu (počet průchodů cyklem)</p>"
   ]
  },
  {
   "cell_type": "code",
   "execution_count": null,
   "metadata": {
    "colab": {
     "base_uri": "https://localhost:8080/"
    },
    "executionInfo": {
     "elapsed": 3,
     "status": "ok",
     "timestamp": 1698239318696,
     "user": {
      "displayName": "",
      "userId": ""
     },
     "user_tz": -120
    },
    "id": "Z466EW8o635i",
    "outputId": "c60bbacf-1866-47b5-f9c1-43152a9b89e6"
   },
   "outputs": [
    {
     "name": "stdout",
     "output_type": "stream",
     "text": [
      "Počáteční hodnota: 9\n",
      "Další krok: 28\n",
      "Další krok: 14\n",
      "Další krok: 7\n",
      "Další krok: 22\n",
      "Další krok: 11\n",
      "Další krok: 34\n",
      "Další krok: 17\n",
      "Další krok: 52\n",
      "Další krok: 26\n",
      "Další krok: 13\n",
      "Další krok: 40\n",
      "Další krok: 20\n",
      "Další krok: 10\n",
      "Další krok: 5\n",
      "Další krok: 16\n",
      "Další krok: 8\n",
      "Další krok: 4\n",
      "Další krok: 2\n",
      "Další krok: 1\n",
      "Konec, Počet kroků: 19\n"
     ]
    }
   ],
   "source": [
    "x = 5\n",
    "print(\"Počáteční hodnota:\",x)\n",
    "while x > 1: # pokud je číslo jedna (nebo méně) - ukonči cyklus, pokud je číslo větši než jedna - pokračuj do těla cyklu\n",
    "  if x%2 == 0: # sudá čísla vyděl dvěma\n",
    "    x = x//2\n",
    "  else: # lichá čísla vynásob třemi a přičti jedna\n",
    "    x = 3*x+1\n",
    "  print(\"Další krok:\",x) # vždy vytiskni aktuální stav čísla\n",
    "print(\"Konec\")"
   ]
  },
  {
   "cell_type": "markdown",
   "metadata": {
    "id": "ygLmHF2V7hVr"
   },
   "source": [
    "<p>Výsledky pro Vaší kontrolu - referenční řešení má 11 řádků</p>\n",
    "<table>\n",
    "<tr>\n",
    "<td>\n",
    "<pre>\n",
    "Počáteční hodnota: 5\n",
    "Další krok: 16\n",
    "Další krok: 8\n",
    "Další krok: 4\n",
    "Další krok: 2\n",
    "Další krok: 1\n",
    "Konec, Počet kroků: 5\n",
    "</pre>\n",
    "</td>\n",
    "\n",
    "<td>\n",
    "<pre>\n",
    "Počáteční hodnota: 1\n",
    "Konec, Počet kroků: 0\n",
    "</pre>\n",
    "</td>\n",
    "\n",
    "<td>\n",
    "<pre>\n",
    "Počáteční hodnota: 17\n",
    "Další krok: 52\n",
    "Další krok: 26\n",
    "Další krok: 13\n",
    "Další krok: 40\n",
    "Další krok: 20\n",
    "Další krok: 10\n",
    "Další krok: 5\n",
    "Další krok: 16\n",
    "Další krok: 8\n",
    "Další krok: 4\n",
    "Další krok: 2\n",
    "Další krok: 1\n",
    "Konec, Počet kroků: 12\n",
    "</pre>\n",
    "</td>\n",
    "\n",
    "<td>\n",
    "<pre>\n",
    "Počáteční hodnota: 9\n",
    "Další krok: 28\n",
    "Další krok: 14\n",
    "Další krok: 7\n",
    "Další krok: 22\n",
    "Další krok: 11\n",
    "Další krok: 34\n",
    "Další krok: 17\n",
    "Další krok: 52\n",
    "Další krok: 26\n",
    "Další krok: 13\n",
    "Další krok: 40\n",
    "Další krok: 20\n",
    "Další krok: 10\n",
    "Další krok: 5\n",
    "Další krok: 16\n",
    "Další krok: 8\n",
    "Další krok: 4\n",
    "Další krok: 2\n",
    "Další krok: 1\n",
    "Konec, Počet kroků: 19\n",
    "</pre>\n",
    "</td>\n",
    "\n",
    "</tr>\n",
    "</table>"
   ]
  },
  {
   "cell_type": "markdown",
   "metadata": {
    "id": "x6jEH5_-9UaV"
   },
   "source": [
    "<h2>2</h2>\n",
    "<p>Vypište pomocí while čísla od 5 do 11 včetně.</p>\n",
    "<p>Poznámka: na takový úkol existuje v Pythonu elegantnější způsob než pomocí while, berte to jako trénink.</p>"
   ]
  },
  {
   "cell_type": "code",
   "execution_count": null,
   "metadata": {
    "colab": {
     "base_uri": "https://localhost:8080/"
    },
    "executionInfo": {
     "elapsed": 644,
     "status": "ok",
     "timestamp": 1698239539271,
     "user": {
      "displayName": "",
      "userId": ""
     },
     "user_tz": -120
    },
    "id": "O1Hv2HMx9__G",
    "outputId": "742ba70f-f3ae-4e09-c5aa-b41ec4f63776"
   },
   "outputs": [
    {
     "name": "stdout",
     "output_type": "stream",
     "text": [
      "5\n",
      "6\n",
      "7\n",
      "8\n",
      "9\n",
      "10\n",
      "11\n"
     ]
    }
   ],
   "source": []
  },
  {
   "cell_type": "markdown",
   "metadata": {
    "id": "KceFc8NE_WJF"
   },
   "source": [
    "<p>Výsledky pro Vaší kontrolu - referenční řešení má 4 řádky</p>\n",
    "<table>\n",
    "<tr>\n",
    "<td>\n",
    "<pre>\n",
    "5\n",
    "6\n",
    "7\n",
    "8\n",
    "9\n",
    "10\n",
    "11\n",
    "</pre>\n",
    "</td>\n",
    "</tr>\n",
    "</table>"
   ]
  },
  {
   "cell_type": "markdown",
   "metadata": {
    "id": "3S10Ec-o_lXD"
   },
   "source": [
    "<h2>3</h2>\n",
    "<p>Vypište pomocí while čísla <strong>mezi</strong> hodnotami, uloženými v proměnných</p>\n",
    "<p>Poznámka: na takový úkol existuje v Pythonu elegantnější způsob než pomocí while, berte to jako trénink.</p>"
   ]
  },
  {
   "cell_type": "code",
   "execution_count": null,
   "metadata": {
    "colab": {
     "base_uri": "https://localhost:8080/"
    },
    "executionInfo": {
     "elapsed": 346,
     "status": "ok",
     "timestamp": 1698239988035,
     "user": {
      "displayName": "",
      "userId": ""
     },
     "user_tz": -120
    },
    "id": "Ch2oqRoYABAE",
    "outputId": "ae371c2a-afcb-4a9d-999c-2124aae78a4f"
   },
   "outputs": [
    {
     "name": "stdout",
     "output_type": "stream",
     "text": [
      "Čísla mezi 4 a -2 jsou:\n",
      "-1\n",
      "0\n",
      "1\n",
      "2\n",
      "3\n"
     ]
    }
   ],
   "source": [
    "od = 4\n",
    "do = -2\n",
    "\n"
   ]
  },
  {
   "cell_type": "markdown",
   "metadata": {
    "id": "5evlE8QKA0Do"
   },
   "source": [
    "<p>Výsledky pro Vaší kontrolu - referenční řešení má 9 řádků</p>\n",
    "<table>\n",
    "<tr>\n",
    "<td>\n",
    "<pre>\n",
    "Čísla mezi 4 a 7 jsou:\n",
    "5\n",
    "6\n",
    "</pre>\n",
    "</td>\n",
    "\n",
    "<td>\n",
    "<pre>\n",
    "Čísla mezi -5 a -1 jsou:\n",
    "-4\n",
    "-3\n",
    "-2\n",
    "</pre>\n",
    "</td>\n",
    "\n",
    "<td>\n",
    "<pre>\n",
    "Čísla mezi 4 a -2 jsou:\n",
    "-1\n",
    "0\n",
    "1\n",
    "2\n",
    "3\n",
    "</pre>\n",
    "</td>\n",
    "\n",
    "<td>\n",
    "<pre>\n",
    "Čísla mezi 6 a 6 jsou:\n",
    "</pre>\n",
    "</td>\n",
    "\n",
    "</tr>\n",
    "</table>"
   ]
  },
  {
   "cell_type": "markdown",
   "metadata": {
    "id": "-2aYrp5aDPsh"
   },
   "source": [
    "<h2>4</h2>\n",
    "<p>Nechte uživatele zadávat písmena (případně cokoliv jiného).<br>Program vždy vypíše to, co uživatel zadal. Pokud zadá písmeno \"k\" program skončí, pokud zadá cokoliv jiného, program pokračuje.</p>\n"
   ]
  },
  {
   "cell_type": "code",
   "execution_count": null,
   "metadata": {
    "colab": {
     "base_uri": "https://localhost:8080/",
     "height": 426
    },
    "executionInfo": {
     "elapsed": 111651,
     "status": "error",
     "timestamp": 1698240529386,
     "user": {
      "displayName": "",
      "userId": ""
     },
     "user_tz": -120
    },
    "id": "9TZ_tg8_D8wc",
    "outputId": "ae153192-6b10-4bf2-b5b9-8ceaf7216f3d"
   },
   "outputs": [
    {
     "name": "stdout",
     "output_type": "stream",
     "text": [
      "Napiš něco: konec\n",
      "Zadal jsi: konec\n"
     ]
    },
    {
     "ename": "KeyboardInterrupt",
     "evalue": "ignored",
     "output_type": "error",
     "traceback": [
      "\u001b[0;31m---------------------------------------------------------------------------\u001b[0m",
      "\u001b[0;31mKeyboardInterrupt\u001b[0m                         Traceback (most recent call last)",
      "\u001b[0;32m<ipython-input-15-3c1ed4b49c32>\u001b[0m in \u001b[0;36m<cell line: 3>\u001b[0;34m()\u001b[0m\n\u001b[1;32m      2\u001b[0m \u001b[0mprint\u001b[0m\u001b[0;34m(\u001b[0m\u001b[0;34m\"Zadal jsi:\"\u001b[0m\u001b[0;34m,\u001b[0m\u001b[0mzadano\u001b[0m\u001b[0;34m)\u001b[0m\u001b[0;34m\u001b[0m\u001b[0;34m\u001b[0m\u001b[0m\n\u001b[1;32m      3\u001b[0m \u001b[0;32mwhile\u001b[0m \u001b[0mzadano\u001b[0m\u001b[0;34m.\u001b[0m\u001b[0mlower\u001b[0m\u001b[0;34m(\u001b[0m\u001b[0;34m)\u001b[0m \u001b[0;34m!=\u001b[0m \u001b[0;34m\"k\"\u001b[0m\u001b[0;34m:\u001b[0m\u001b[0;34m\u001b[0m\u001b[0;34m\u001b[0m\u001b[0m\n\u001b[0;32m----> 4\u001b[0;31m   \u001b[0mzadano\u001b[0m \u001b[0;34m=\u001b[0m \u001b[0minput\u001b[0m\u001b[0;34m(\u001b[0m\u001b[0;34m\"Napiš něco: \"\u001b[0m\u001b[0;34m)\u001b[0m\u001b[0;34m\u001b[0m\u001b[0;34m\u001b[0m\u001b[0m\n\u001b[0m\u001b[1;32m      5\u001b[0m   \u001b[0mprint\u001b[0m\u001b[0;34m(\u001b[0m\u001b[0;34m\"Zadal jsi:\"\u001b[0m\u001b[0;34m,\u001b[0m\u001b[0mzadano\u001b[0m\u001b[0;34m)\u001b[0m\u001b[0;34m\u001b[0m\u001b[0;34m\u001b[0m\u001b[0m\n\u001b[1;32m      6\u001b[0m \u001b[0mprint\u001b[0m\u001b[0;34m(\u001b[0m\u001b[0;34m\"Konec\"\u001b[0m\u001b[0;34m)\u001b[0m\u001b[0;34m\u001b[0m\u001b[0;34m\u001b[0m\u001b[0m\n",
      "\u001b[0;32m/usr/local/lib/python3.10/dist-packages/ipykernel/kernelbase.py\u001b[0m in \u001b[0;36mraw_input\u001b[0;34m(self, prompt)\u001b[0m\n\u001b[1;32m    849\u001b[0m                 \u001b[0;34m\"raw_input was called, but this frontend does not support input requests.\"\u001b[0m\u001b[0;34m\u001b[0m\u001b[0;34m\u001b[0m\u001b[0m\n\u001b[1;32m    850\u001b[0m             )\n\u001b[0;32m--> 851\u001b[0;31m         return self._input_request(str(prompt),\n\u001b[0m\u001b[1;32m    852\u001b[0m             \u001b[0mself\u001b[0m\u001b[0;34m.\u001b[0m\u001b[0m_parent_ident\u001b[0m\u001b[0;34m,\u001b[0m\u001b[0;34m\u001b[0m\u001b[0;34m\u001b[0m\u001b[0m\n\u001b[1;32m    853\u001b[0m             \u001b[0mself\u001b[0m\u001b[0;34m.\u001b[0m\u001b[0m_parent_header\u001b[0m\u001b[0;34m,\u001b[0m\u001b[0;34m\u001b[0m\u001b[0;34m\u001b[0m\u001b[0m\n",
      "\u001b[0;32m/usr/local/lib/python3.10/dist-packages/ipykernel/kernelbase.py\u001b[0m in \u001b[0;36m_input_request\u001b[0;34m(self, prompt, ident, parent, password)\u001b[0m\n\u001b[1;32m    893\u001b[0m             \u001b[0;32mexcept\u001b[0m \u001b[0mKeyboardInterrupt\u001b[0m\u001b[0;34m:\u001b[0m\u001b[0;34m\u001b[0m\u001b[0;34m\u001b[0m\u001b[0m\n\u001b[1;32m    894\u001b[0m                 \u001b[0;31m# re-raise KeyboardInterrupt, to truncate traceback\u001b[0m\u001b[0;34m\u001b[0m\u001b[0;34m\u001b[0m\u001b[0m\n\u001b[0;32m--> 895\u001b[0;31m                 \u001b[0;32mraise\u001b[0m \u001b[0mKeyboardInterrupt\u001b[0m\u001b[0;34m(\u001b[0m\u001b[0;34m\"Interrupted by user\"\u001b[0m\u001b[0;34m)\u001b[0m \u001b[0;32mfrom\u001b[0m \u001b[0;32mNone\u001b[0m\u001b[0;34m\u001b[0m\u001b[0;34m\u001b[0m\u001b[0m\n\u001b[0m\u001b[1;32m    896\u001b[0m             \u001b[0;32mexcept\u001b[0m \u001b[0mException\u001b[0m \u001b[0;32mas\u001b[0m \u001b[0me\u001b[0m\u001b[0;34m:\u001b[0m\u001b[0;34m\u001b[0m\u001b[0;34m\u001b[0m\u001b[0m\n\u001b[1;32m    897\u001b[0m                 \u001b[0mself\u001b[0m\u001b[0;34m.\u001b[0m\u001b[0mlog\u001b[0m\u001b[0;34m.\u001b[0m\u001b[0mwarning\u001b[0m\u001b[0;34m(\u001b[0m\u001b[0;34m\"Invalid Message:\"\u001b[0m\u001b[0;34m,\u001b[0m \u001b[0mexc_info\u001b[0m\u001b[0;34m=\u001b[0m\u001b[0;32mTrue\u001b[0m\u001b[0;34m)\u001b[0m\u001b[0;34m\u001b[0m\u001b[0;34m\u001b[0m\u001b[0m\n",
      "\u001b[0;31mKeyboardInterrupt\u001b[0m: Interrupted by user"
     ]
    }
   ],
   "source": []
  },
  {
   "cell_type": "markdown",
   "metadata": {
    "id": "pWqpsgKAEcd3"
   },
   "source": [
    "<p>Výsledky pro Vaší kontrolu - referenční řešení má 5 řádků</p>\n",
    "<table>\n",
    "<tr>\n",
    "<td>\n",
    "<pre>\n",
    "Napiš něco: a\n",
    "Zadal jsi: a\n",
    "Napiš něco: Ahoj\n",
    "Zadal jsi: Ahoj\n",
    "Napiš něco: 5\n",
    "Zadal jsi: 5\n",
    "Napiš něco: k\n",
    "Zadal jsi: k\n",
    "Konec\n",
    "</pre>\n",
    "</td>\n",
    "\n",
    "<td>\n",
    "<pre>\n",
    "Napiš něco: k\n",
    "Zadal jsi: k\n",
    "Konec\n",
    "</pre>\n",
    "</td>\n",
    "\n",
    "<td>\n",
    "<pre>\n",
    "Napiš něco: nic\n",
    "Zadal jsi: nic\n",
    "Napiš něco: 789\n",
    "Zadal jsi: 789\n",
    "Napiš něco: 7.47\n",
    "Zadal jsi: 7.47\n",
    "Napiš něco: k\n",
    "Zadal jsi: k\n",
    "Konec\n",
    "</pre>\n",
    "</td>\n",
    "\n",
    "</tr>\n",
    "</table>"
   ]
  },
  {
   "cell_type": "markdown",
   "metadata": {
    "id": "OMI-M2cqFCPQ"
   },
   "source": [
    "<h2>5</h2>\n",
    "<p>Nechte uživatele zadávat dvě celá čísla oddělená mezerou.<br>Pokud jsou obě čísla lichá, program skončí. Pokud nejsou obě lichá, nechá program uživatele zadání opakovat.</p>"
   ]
  },
  {
   "cell_type": "code",
   "execution_count": null,
   "metadata": {
    "colab": {
     "base_uri": "https://localhost:8080/"
    },
    "executionInfo": {
     "elapsed": 9854,
     "status": "ok",
     "timestamp": 1729070813753,
     "user": {
      "displayName": "Matej Koudelka",
      "userId": "04954565181098885683"
     },
     "user_tz": -120
    },
    "id": "WaLvMOfnFtTg",
    "outputId": "b0933bf2-5b9f-4026-b3e6-589c31fc0ef4"
   },
   "outputs": [
    {
     "name": "stdout",
     "output_type": "stream",
     "text": [
      "Zadal jsi 0 a 0, ty nejsou obě lichá\n",
      "Zadejte dvě čísla oddělená mezerou: 9 8\n",
      "Zadal jsi 9 a 8, ty nejsou obě lichá\n",
      "Zadejte dvě čísla oddělená mezerou: 11 7\n",
      "Zadal jsi 11 a 7, ty jsou obě lichá\n",
      "Konec\n"
     ]
    }
   ],
   "source": [
    "# TODO poslední úkol je celý na vás\n"
   ]
  },
  {
   "cell_type": "markdown",
   "metadata": {
    "id": "G7tXrvRAIs1J"
   },
   "source": [
    "<p>Výsledky pro Vaší kontrolu - referenční řešení má 7 řádků</p>\n",
    "<table>\n",
    "<tr>\n",
    "<td>\n",
    "<pre>\n",
    "Zadej dvě lichá čísla oddělená mezerou: 4 7\n",
    "Zadal jsi 4 a 7, ty nejsou obě lichá\n",
    "Zadej dvě lichá čísla oddělená mezerou: 6 4\n",
    "Zadal jsi 6 a 4, ty nejsou obě lichá\n",
    "Zadej dvě lichá čísla oddělená mezerou: 9 2\n",
    "Zadal jsi 9 a 2, ty nejsou obě lichá\n",
    "Zadej dvě lichá čísla oddělená mezerou: 1 3\n",
    "Zadal jsi 1 a 3, ty jsou obě lichá\n",
    "Konec\n",
    "</pre>\n",
    "</td>\n",
    "</tr>\n",
    "</table>"
   ]
  }
 ],
 "metadata": {
  "colab": {
   "provenance": [
    {
     "file_id": "https://github.com/JaroslavHolecek/Teaching/blob/master/JupyterNotebook/Python/While_zadani.ipynb",
     "timestamp": 1698240877736
    }
   ]
  },
  "kernelspec": {
   "display_name": "Python 3",
   "name": "python3"
  },
  "language_info": {
   "name": "python"
  }
 },
 "nbformat": 4,
 "nbformat_minor": 0
}
