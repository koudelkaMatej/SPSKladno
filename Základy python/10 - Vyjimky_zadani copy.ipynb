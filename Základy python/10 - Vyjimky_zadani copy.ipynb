{
  "cells": [
    {
      "cell_type": "markdown",
      "metadata": {
        "colab_type": "text",
        "id": "view-in-github"
      },
      "source": [
        "<a href=\"https://colab.research.google.com/github/JaroslavHolecek/Teaching/blob/master/JupyterNotebook/Python/Vyjimky_zadani.ipynb\" target=\"_parent\"><img src=\"https://colab.research.google.com/assets/colab-badge.svg\" alt=\"Open In Colab\"/></a>"
      ]
    },
    {
      "cell_type": "markdown",
      "metadata": {},
      "source": [
        "# Desetiminutovka\n",
        "\n",
        "Vytvořte program, který bude počítat následující příklad a vypište i mezi výsledky.\n",
        "\n",
        "\n",
        "1.   Vytvoř 4 funkce\n",
        "\n",
        "        * vynasob_tri(x) – vrátí x * 3\n",
        "        * vydel_dvema_a_pricti_jedna(x) – vrátí x / 2 + 1\n",
        "        * na_druhou(x) – vrátí x ** 2\n",
        "        * modulo_patnact(x) – vrátí x % 15\n",
        "\n",
        "2. Zeptej se uživatele na počet žáků.\n",
        "3. Postupně zavolej každou funkci a vypiš mezivýsledky.\n",
        "\n",
        "---\n",
        "\n",
        "Ukázka řešení:\n",
        "```\n",
        "Zadejte počet žáků: 10\n",
        "1: 30\n",
        "2: 16.0\n",
        "3: 256.0\n",
        "4: 1.0\n",
        "\n",
        "```\n",
        "\n",
        "\n",
        "\n"
      ]
    },
    {
      "cell_type": "markdown",
      "metadata": {
        "id": "K4NFAqnzsrbI"
      },
      "source": [
        "# Výjimky\n",
        "\n",
        "Během tvorby a **běhu** programu dochází často k nejrůznějším chybám (** výjimkám**).\n",
        "\n",
        "Některé chyby jsou tak závažné, že vůbec nedovolí spuštění programu (např. chybně (s překlepem) zapsané klíčové slovo (např. foor místo for, esle místo else a pod.)).\n",
        "\n",
        "Kontrolní dotaz: Může se při psaní v programu v Pythonu stát, že se z výše popsaného důvodu program vůbec nezačne provádět?\n",
        "\n",
        "Kontrolní odpověď: Ne, nemůže - výše popsaná situace může nastat pouze u kompilovaných jazyků. Popsanou chybu \"odhalí\" již kompilátor, který poté vůbec nevytvoří spustitelný soubor, který by se mohl spouštět. Oproti tomu Python je interpretovaný jazyk, který náš kód čte řádek po řádku a také ho řádek po řádku spouští - jakákoliv chyba (i naprosto evidentní a zásadní) se tedy projeví až ve chvíli, kdy interpret dorazí na řádek s chybou.\n",
        "\n"
      ]
    },
    {
      "cell_type": "code",
      "execution_count": 6,
      "metadata": {
        "id": "fqxAbuXXsiiU"
      },
      "outputs": [
        {
          "ename": "SyntaxError",
          "evalue": "'(' was never closed (323987154.py, line 2)",
          "output_type": "error",
          "traceback": [
            "  \u001b[36mCell\u001b[39m\u001b[36m \u001b[39m\u001b[32mIn[6]\u001b[39m\u001b[32m, line 2\u001b[39m\n\u001b[31m    \u001b[39m\u001b[31mprint(\"Ahoj!\"\u001b[39m\n         ^\n\u001b[31mSyntaxError\u001b[39m\u001b[31m:\u001b[39m '(' was never closed\n"
          ]
        }
      ],
      "source": [
        "# Neukončená závorka - překlep\n",
        "print(\"Ahoj!\"\n",
        "\n",
        "print(\"Toto se již nevykoná :-(\")\n"
      ]
    },
    {
      "cell_type": "markdown",
      "metadata": {
        "id": "lC82f3Tdsqno"
      },
      "source": [
        "## Typy chyb\n",
        "\n",
        "Některé chyby jsou však záludnější, než jiné.\n",
        "\n",
        "Výše popsané \"**překlepy**\" dokáže odhalit i jen trochu chytřejší textový editor a např. nám je (jako programátorovi) podtrhne červeně. Pokud si nebudeme upozornění všímat a přesto kód spustíme, nezvládne interpret daný řádek vykonat (protože nezná to, co je na něm napsané) a běh programu se ukončí s chybou.\n",
        "\n",
        "Některé chyby se však projeví až tak zvaně \"**za běhu**\". To jsou chyby (operace, které není možné vykonat), které není možné (nebo je to velmi obtížné) odhalit pouze z kódu samotného, protože zavisí také na tom, co se stane až po spuštění programu (např. program zpracovává data zadaná uživatelem a není tedy předem známe, jaká data se budou zpracovávat - jaká data uživatel zadá).\n",
        "\n",
        "Typickými příklady jsou: dělení nulou; čtení ze souboru, který neexistuje; zápis do souboru, do kterého nemáme oprávnění zapisovat; ..."
      ]
    },
    {
      "cell_type": "code",
      "execution_count": 7,
      "metadata": {
        "id": "kS5_ptPRygaF"
      },
      "outputs": [
        {
          "name": "stdout",
          "output_type": "stream",
          "text": [
            "Podíl: 2.5\n"
          ]
        }
      ],
      "source": [
        "# Dělení nulou - pokud druhé číslo nebude nula, program proběhne bez problémů...\n",
        "# pokud však druhé číslo bude nula, nastane chyba\n",
        "cislo1 = int(input(\"Zapiš dělenec: \"))\n",
        "cislo2 = int(input(\"Zapiš dělitel: \"))\n",
        "vysledek = cislo1 / cislo2\n",
        "print(\"Podíl:\", vysledek)"
      ]
    },
    {
      "cell_type": "code",
      "execution_count": 8,
      "metadata": {
        "id": "xDv6z-z6z0p0"
      },
      "outputs": [
        {
          "ename": "FileNotFoundError",
          "evalue": "[Errno 2] No such file or directory: 'neexistuje.txt'",
          "output_type": "error",
          "traceback": [
            "\u001b[31m---------------------------------------------------------------------------\u001b[39m",
            "\u001b[31mFileNotFoundError\u001b[39m                         Traceback (most recent call last)",
            "\u001b[36mCell\u001b[39m\u001b[36m \u001b[39m\u001b[32mIn[8]\u001b[39m\u001b[32m, line 2\u001b[39m\n\u001b[32m      1\u001b[39m \u001b[38;5;66;03m# Čtení neexistujícího souboru\u001b[39;00m\n\u001b[32m----> \u001b[39m\u001b[32m2\u001b[39m \u001b[38;5;28;01mwith\u001b[39;00m \u001b[38;5;28;43mopen\u001b[39;49m\u001b[43m(\u001b[49m\u001b[33;43m\"\u001b[39;49m\u001b[33;43mneexistuje.txt\u001b[39;49m\u001b[33;43m\"\u001b[39;49m\u001b[43m,\u001b[49m\u001b[43m \u001b[49m\u001b[33;43m\"\u001b[39;49m\u001b[33;43mr\u001b[39;49m\u001b[33;43m\"\u001b[39;49m\u001b[43m)\u001b[49m \u001b[38;5;28;01mas\u001b[39;00m soubor:\n\u001b[32m      3\u001b[39m   obsah = soubor.read()\n\u001b[32m      4\u001b[39m   \u001b[38;5;28mprint\u001b[39m(obsah)\n",
            "\u001b[36mFile \u001b[39m\u001b[32md:\\Programování\\SPSKladno\\venv\\Lib\\site-packages\\IPython\\core\\interactiveshell.py:343\u001b[39m, in \u001b[36m_modified_open\u001b[39m\u001b[34m(file, *args, **kwargs)\u001b[39m\n\u001b[32m    336\u001b[39m \u001b[38;5;28;01mif\u001b[39;00m file \u001b[38;5;129;01min\u001b[39;00m {\u001b[32m0\u001b[39m, \u001b[32m1\u001b[39m, \u001b[32m2\u001b[39m}:\n\u001b[32m    337\u001b[39m     \u001b[38;5;28;01mraise\u001b[39;00m \u001b[38;5;167;01mValueError\u001b[39;00m(\n\u001b[32m    338\u001b[39m         \u001b[33mf\u001b[39m\u001b[33m\"\u001b[39m\u001b[33mIPython won\u001b[39m\u001b[33m'\u001b[39m\u001b[33mt let you open fd=\u001b[39m\u001b[38;5;132;01m{\u001b[39;00mfile\u001b[38;5;132;01m}\u001b[39;00m\u001b[33m by default \u001b[39m\u001b[33m\"\u001b[39m\n\u001b[32m    339\u001b[39m         \u001b[33m\"\u001b[39m\u001b[33mas it is likely to crash IPython. If you know what you are doing, \u001b[39m\u001b[33m\"\u001b[39m\n\u001b[32m    340\u001b[39m         \u001b[33m\"\u001b[39m\u001b[33myou can use builtins\u001b[39m\u001b[33m'\u001b[39m\u001b[33m open.\u001b[39m\u001b[33m\"\u001b[39m\n\u001b[32m    341\u001b[39m     )\n\u001b[32m--> \u001b[39m\u001b[32m343\u001b[39m \u001b[38;5;28;01mreturn\u001b[39;00m \u001b[43mio_open\u001b[49m\u001b[43m(\u001b[49m\u001b[43mfile\u001b[49m\u001b[43m,\u001b[49m\u001b[43m \u001b[49m\u001b[43m*\u001b[49m\u001b[43margs\u001b[49m\u001b[43m,\u001b[49m\u001b[43m \u001b[49m\u001b[43m*\u001b[49m\u001b[43m*\u001b[49m\u001b[43mkwargs\u001b[49m\u001b[43m)\u001b[49m\n",
            "\u001b[31mFileNotFoundError\u001b[39m: [Errno 2] No such file or directory: 'neexistuje.txt'"
          ]
        }
      ],
      "source": [
        "# Čtení neexistujícího souboru\n",
        "with open(\"neexistuje.txt\", \"r\") as soubor:\n",
        "  obsah = soubor.read()\n",
        "  print(obsah)\n"
      ]
    },
    {
      "cell_type": "markdown",
      "metadata": {
        "id": "w_4uq1A62MfT"
      },
      "source": [
        "Různých chyb, které mohou nastat je velké množství (viz [https://docs.python.org/3/library/exceptions.html](https://docs.python.org/3/library/exceptions.html)). Často jsou od sebe různé typy chyb odděděné (\"patří do stejné kategorie chyb\") a je tedy možné zpracovat více typů chyb najednou tím, že budeme zpracovat celou \"kategorii chyb\". Extrém je pak kategorie \"Exception\" do které patří veškeré chyby (tzv. výjimky)."
      ]
    },
    {
      "cell_type": "markdown",
      "metadata": {
        "id": "GlPpY4yW0Gjt"
      },
      "source": [
        "## Zachytávání výjimek\n",
        "\n",
        "Protože k výše popsaným situacím dochází velmi často, přišli tvůrci programovacích jazyků s takzvaným **zachytáváním** výjimek.\n",
        "\n",
        "Část kódu, ve které je očekávaná chyba za běhu, se uzavře do bloku **try-except** a v části **except** (za klíčové slovo se zapíše typ chyby, kterou chceme zachytávat) je poté možné smysluplně zareagovat (např. vyzvat uživatele, ať zadá hodnotu znovu a pod.)\n",
        "\n",
        "```\n",
        "try:\n",
        "  kód s možnou chybou\n",
        "except TypChybyKterouChcemeZachytit:\n",
        "  kód který se spustí při výskytu chyby\n",
        "except DalsiTypChybyKterouChcemeZachytit:\n",
        "  kód který se spustí při výskytu druheho typu chyby\n",
        "except:\n",
        "  kód který se spustí při výskytu libovolné jiné chyby\n",
        "```\n",
        "\n",
        "K chybě jako takové (k informacím o chybě) se lze dostat pomocí uložení chyby (informací o ní) do proměnné:\n",
        "\n",
        "```\n",
        "try:\n",
        "  kód s možnou chybou\n",
        "except TypChybyKterouChcemeZachytit as promenna:\n",
        "  kód který se spustí při výskytu chyby -> zde lze použít informace uložené v \"promenna\"\n",
        "```\n",
        "\n"
      ]
    },
    {
      "cell_type": "code",
      "execution_count": 9,
      "metadata": {
        "id": "ruWH08eazcgt"
      },
      "outputs": [
        {
          "name": "stdout",
          "output_type": "stream",
          "text": [
            "Podíl: 0.5\n",
            "Chyba: Soubor nenalezen!\n"
          ]
        }
      ],
      "source": [
        "# Zachycení chyb\n",
        "try:\n",
        "  cislo1 = int(input(\"Zapiš dělenec: \"))\n",
        "  cislo2 = int(input(\"Zapiš dělitel: \"))\n",
        "  vysledek = cislo1 / cislo2\n",
        "  print(\"Podíl:\", vysledek)\n",
        "except ZeroDivisionError:\n",
        "  print(\"Chyba: Nelze dělit nulou!\")\n",
        "\n",
        "try:\n",
        "  with open(\"neexistuje.txt\", \"r\") as soubor:\n",
        "    obsah = soubor.read()\n",
        "    print(obsah)\n",
        "except FileNotFoundError:\n",
        "  print(\"Chyba: Soubor nenalezen!\")"
      ]
    },
    {
      "cell_type": "code",
      "execution_count": 10,
      "metadata": {
        "id": "epVjK8Of3y1y"
      },
      "outputs": [
        {
          "name": "stdout",
          "output_type": "stream",
          "text": [
            "Podíl: 0.5\n",
            "Chyba: Soubor nenalezen!\n",
            "Python by ti napsal:  [Errno 2] No such file or directory: 'neexistuje.txt'\n"
          ]
        }
      ],
      "source": [
        "# Zachycení chyb s uložením výjimky do proměnné\n",
        "try:\n",
        "  cislo1 = int(input(\"Zapiš dělenec: \"))\n",
        "  cislo2 = int(input(\"Zapiš dělitel: \"))\n",
        "  vysledek = cislo1 / cislo2\n",
        "  print(\"Podíl:\", vysledek)\n",
        "except ZeroDivisionError as chyba:\n",
        "  print(\"Chyba: Nelze dělit nulou!\")\n",
        "  print(\"Python by ti napsal: \", chyba)\n",
        "\n",
        "try:\n",
        "  with open(\"neexistuje.txt\", \"r\") as soubor:\n",
        "    obsah = soubor.read()\n",
        "    print(obsah)\n",
        "except FileNotFoundError as chyba:\n",
        "  print(\"Chyba: Soubor nenalezen!\")\n",
        "  print(\"Python by ti napsal: \", chyba)"
      ]
    },
    {
      "cell_type": "code",
      "execution_count": 3,
      "metadata": {},
      "outputs": [
        {
          "ename": "TypeError",
          "evalue": "unsupported operand type(s) for /: 'int' and 'str'",
          "output_type": "error",
          "traceback": [
            "\u001b[31m---------------------------------------------------------------------------\u001b[39m",
            "\u001b[31mTypeError\u001b[39m                                 Traceback (most recent call last)",
            "\u001b[36mCell\u001b[39m\u001b[36m \u001b[39m\u001b[32mIn[3]\u001b[39m\u001b[32m, line 3\u001b[39m\n\u001b[32m      1\u001b[39m a = \u001b[32m5\u001b[39m\n\u001b[32m      2\u001b[39m b = \u001b[33m\"\u001b[39m\u001b[33mA\u001b[39m\u001b[33m\"\u001b[39m\n\u001b[32m----> \u001b[39m\u001b[32m3\u001b[39m c = \u001b[43ma\u001b[49m\u001b[43m \u001b[49m\u001b[43m/\u001b[49m\u001b[43m \u001b[49m\u001b[43mb\u001b[49m \u001b[38;5;66;03m# skončí chybou dělení 0\u001b[39;00m\n\u001b[32m      4\u001b[39m \u001b[38;5;28mprint\u001b[39m(\u001b[33m\"\u001b[39m\u001b[33mKonec programu\u001b[39m\u001b[33m\"\u001b[39m)\n",
            "\u001b[31mTypeError\u001b[39m: unsupported operand type(s) for /: 'int' and 'str'"
          ]
        }
      ],
      "source": [
        "a = 5\n",
        "b = \"A\"\n",
        "c = a / b # skončí chybou dělení 0\n",
        "print(\"Konec programu\")"
      ]
    },
    {
      "cell_type": "code",
      "execution_count": 4,
      "metadata": {},
      "outputs": [
        {
          "name": "stdout",
          "output_type": "stream",
          "text": [
            "Asi se něco pokazilo\n",
            "Konec programu\n"
          ]
        }
      ],
      "source": [
        "try:\n",
        "  a = 5\n",
        "  b = 0\n",
        "  c = a / b\n",
        "\n",
        "except: # program pokračuje, a místo toho aby spadl, vyhodí hlášku\n",
        "  print(\"Asi se něco pokazilo\")\n",
        "print(\"Konec programu\")"
      ]
    },
    {
      "cell_type": "code",
      "execution_count": 5,
      "metadata": {},
      "outputs": [
        {
          "name": "stdout",
          "output_type": "stream",
          "text": [
            "Nelze dělit 0\n",
            "Konec programu\n"
          ]
        }
      ],
      "source": [
        "try:\n",
        "  a = 5\n",
        "  b = 0\n",
        "  #b = \"a\"\n",
        "  c = a / b\n",
        "\n",
        "except ZeroDivisionError: #hláška se vyhodí pouze při dělení 0\n",
        "  print(\"Nelze dělit 0\")\n",
        "except: #hláška vyskočí u čehokoli jiného\n",
        "  print(\"Asi se něco pokazilo\")\n",
        "print(\"Konec programu\")"
      ]
    },
    {
      "cell_type": "markdown",
      "metadata": {
        "id": "yR-FHIwi4y8h"
      },
      "source": [
        "## Cvičení\n",
        "1.\n",
        "\n",
        "Upravte program tak, ať se smysluplnou infomrací pro uživatel vypořádá se sitacemi: 1) uživatel zadá nulu 2) uživatel zadá něco jiného než číslo"
      ]
    },
    {
      "cell_type": "code",
      "execution_count": null,
      "metadata": {
        "id": "YL0fTvXI5HJL"
      },
      "outputs": [],
      "source": []
    },
    {
      "cell_type": "markdown",
      "metadata": {
        "id": "EpQOOOnE5ZsE"
      },
      "source": [
        "<table>\n",
        "<tr>\n",
        "  <td>\n",
        "    <pre>\n",
        "Zadejte číslo: 2\n",
        "Výsledek: 5.0\n",
        "    </pre>\n",
        "  </td>\n",
        "  <td>\n",
        "    <pre>\n",
        "Zadejte číslo: 0\n",
        "Chyba: Nelze dělit nulou!\n",
        "    </pre>\n",
        "  </td>\n",
        "  <td>\n",
        "    <pre>\n",
        "Zadejte číslo: A\n",
        "Chyba: Zadaná hodnota není číslo.\n",
        "    </pre>\n",
        "  </td>\n",
        "</tr>\n",
        "</table>"
      ]
    }
  ],
  "metadata": {
    "colab": {
      "authorship_tag": "ABX9TyMvzSIXXajxV9+70A9dD1/m",
      "include_colab_link": true,
      "provenance": []
    },
    "kernelspec": {
      "display_name": "venv",
      "language": "python",
      "name": "python3"
    },
    "language_info": {
      "codemirror_mode": {
        "name": "ipython",
        "version": 3
      },
      "file_extension": ".py",
      "mimetype": "text/x-python",
      "name": "python",
      "nbconvert_exporter": "python",
      "pygments_lexer": "ipython3",
      "version": "3.13.3"
    }
  },
  "nbformat": 4,
  "nbformat_minor": 0
}
