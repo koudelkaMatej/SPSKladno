{
 "cells": [
  {
   "cell_type": "markdown",
   "id": "8bd6767f",
   "metadata": {},
   "source": [
    "# 1. úloha Hráč"
   ]
  },
  {
   "cell_type": "markdown",
   "id": "86b8cd72",
   "metadata": {},
   "source": [
    "Otestujte vytvoření objektu Hrac s výchozím jménem.\n",
    "Otestujte vytvoření objektu Hrac se zadaným jménem.\n",
    "Otestujte správné nastavení a získání věku.\n",
    "Otestujte správné nastavení a získání jména."
   ]
  },
  {
   "cell_type": "code",
   "execution_count": 1,
   "id": "3523bd85",
   "metadata": {},
   "outputs": [],
   "source": [
    "class Hrac:\n",
    "    def __init__(self, vek, jmeno=\"Honza\"):\n",
    "        self.__vek = vek\n",
    "        self.__jmeno = jmeno\n",
    "\n",
    "    def get_vek(self):\n",
    "        return self.vek\n",
    "\n",
    "    def set_vek(self, vek):\n",
    "        self.__vek = vek\n",
    "\n",
    "    def get_jmeno(self):\n",
    "        return self.jmeno\n",
    "\n",
    "    def set_jmeno(self, jmeno):\n",
    "        self.__jmeno = jmeno\n"
   ]
  },
  {
   "cell_type": "markdown",
   "id": "03172171",
   "metadata": {},
   "source": [
    "# 2. úloha Závody"
   ]
  },
  {
   "cell_type": "markdown",
   "id": "92311302",
   "metadata": {},
   "source": [
    "Zadání:\n",
    "\n",
    "1. Vytvořte třídu Běžec, která bude reprezentovat běžce v závodu. Třída by měla obsahovat:\n",
    "    - Jméno běžce\n",
    "    - Věk běžce\n",
    "    - Osobní rekord na 5 km (v minutách)\n",
    "    - Metody pro získání a nastavení těchto atributů\n",
    "\n",
    "2. Vytvořte třídu Závod, která bude reprezentovat běžecký závod. Třída by měla obsahovat:\n",
    "    - Název závodu\n",
    "    - Datum konání\n",
    "    - Seznam běžců (objekty třídy Běžec)\n",
    "    - Metody pro přidání a odebrání běžce ze závodu\n",
    "    - Metodu pro vypsání všech běžců v závodu\n",
    "\n",
    "3. Vytvořte automatické testy pro třídy Běžec a Závod:\n",
    "    - Otestujte správné vytvoření objektů Běžec a Závod\n",
    "    - Otestujte přidání a odebrání běžce ze závodu\n",
    "    - Otestujte správné nastavení a získání atributů běžce\n",
    "    - Otestujte výpis všech běžců v závodu"
   ]
  },
  {
   "cell_type": "code",
   "execution_count": null,
   "id": "866acdfd",
   "metadata": {},
   "outputs": [],
   "source": []
  },
  {
   "cell_type": "markdown",
   "id": "a0bf068b",
   "metadata": {},
   "source": [
    "# 3. úloha letec"
   ]
  },
  {
   "cell_type": "markdown",
   "id": "d297afac",
   "metadata": {},
   "source": [
    "\n",
    "- Navrhněte tři třídy:\n",
    "\n",
    "    - **Letec**\n",
    "        - jméno\n",
    "        - příjmení\n",
    "        - počet nalétaných hodin\n",
    "        - metody pro nastavení a získání všech údajů\n",
    "\n",
    "    - **Letadlo**\n",
    "        - název letadla\n",
    "        - typ letadla\n",
    "        - minimální požadovaný počet hodin pilota\n",
    "        - metody pro nastavení a získání všech údajů\n",
    "\n",
    "    - **Letiště**\n",
    "        - počet drah\n",
    "        - počet volných drah\n",
    "        - rozpis příletů/odletů:\n",
    "            - letadlo\n",
    "            - letec\n",
    "            - typ akce (přílet/odlet)\n",
    "            - čas (1,2,3)\n",
    "        - metody pro:\n",
    "            - kontrolu volné dráhy\n",
    "            - přidání příletu/odletu\n",
    "            - ověření, zda pilot splňuje požadavek na počet hodin\n",
    "\n",
    "- Zadání testů:\n",
    "    - Ověřte, že pokud je dráha volná, může letec přistát nebo odletět.\n",
    "    - Ověřte, že pilot bez dostatečného počtu hodin nemůže letět daným letadlem.\n",
    "    - Ověřte správné zaznamenání příletu/odletu do rozpisu."
   ]
  },
  {
   "cell_type": "code",
   "execution_count": null,
   "id": "a2e706ad",
   "metadata": {},
   "outputs": [],
   "source": []
  }
 ],
 "metadata": {
  "kernelspec": {
   "display_name": "venv",
   "language": "python",
   "name": "python3"
  },
  "language_info": {
   "codemirror_mode": {
    "name": "ipython",
    "version": 3
   },
   "file_extension": ".py",
   "mimetype": "text/x-python",
   "name": "python",
   "nbconvert_exporter": "python",
   "pygments_lexer": "ipython3",
   "version": "3.13.3"
  }
 },
 "nbformat": 4,
 "nbformat_minor": 5
}
