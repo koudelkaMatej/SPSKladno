{
 "cells": [
  {
   "cell_type": "markdown",
   "metadata": {
    "id": "UO7Bn0FZ6KNb"
   },
   "source": []
  },
  {
   "cell_type": "markdown",
   "metadata": {
    "id": "0Emcs3DswX_h"
   },
   "source": [
    "<h1>Funkce</h1>\n",
    "<p>Funkce slouží k významnému zjednodušení a zpřehlednění kódu.<br>Funkce je skupina příkazů, které umí dělat něco užitečného a které máme uložené v paměti. Tuto skupinu pak můžeme v programu použít vícekrát.<br>\n",
    "Často chceme stejný proces (několik příkazů) spustit na několika místech v programu. Funkce nám umožní tento proces (několik příkazů) zapsat pouze jednou - pojmenovat ho - a poté ho spustit jen zadáním jeho jména. Nemusíme tak stále dokola psát stejný kód na všech místech, kde ho chceme spustit.<br>\n",
    "<i>Pokud někde v programu píšete podruhé stejnou část kódu, již je to chvíle, kdy je čas na použití funkce</i>.</p>"
   ]
  },
  {
   "cell_type": "markdown",
   "metadata": {
    "id": "aEsjiasnUfcH"
   },
   "source": [
    "<h2>Syntaxe a sémantika</h2>\n",
    "<pre>def nazev(arg1, arg2):\n",
    "  prikaz1\n",
    "  prikaz2\n",
    "  prikaz3\n",
    "</pre>\n",
    "<p>Prvnímu řádku funkce <code>def nazev(arg1, arg2):</code> říkáme <strong>hlavička funkce</strong>. Po klíčovém slovu <code>def</code> následuje název funkce - tímto názvem později funkci spustíme (\"zavoláme\"). Dále zapíšeme kulaté závorky a do nich volitelně takzvané argumenty. Po dvojtečce na novém řádku píšeme (odsazené) tělo funkce - jednotlivé příkazy.</p>\n",
    "<p>Pokud využijeme argumenty, jsou to proměnné, díky kterým můžeme do funkce \"vložit\" hodnoty v místě, odkud funkci voláme.</p>"
   ]
  },
  {
   "cell_type": "code",
   "execution_count": null,
   "metadata": {
    "id": "RBiBoG5IGkgX"
   },
   "outputs": [],
   "source": [
    "def pozdrav3x(jmeno): # argument jmeno je proměnná -> po zavolání funkce v ní bude uložená hodnota\n",
    "  print(\"Čauves\",jmeno)\n",
    "  print(\"Nazdaaar\",jmeno)\n",
    "  print(\"Ahoj\",jmeno)\n",
    "\n",
    "def hura(jmeno, pocet_hura):\n",
    "  print(jmeno)\n",
    "  for i in range(pocet_hura):\n",
    "    print(\"Po {}. hurá!\".format(i+1)) # funkce nemusí nutně jen vypisovat do konzole - print() je použito pouze pro názornost\n",
    "\n",
    "pozdrav3x(\"Adam\")\n",
    "pozdrav3x(\"Bert\")\n",
    "\n",
    "hura(\"Cyril\",2)\n",
    "hura(\"Dan\",5)"
   ]
  },
  {
   "cell_type": "markdown",
   "metadata": {
    "id": "lKWQQHWOZKPS"
   },
   "source": [
    "<h2>return</h2>\n",
    "<p>Velmi často chceme, aby funkce vypočítala <strong>výsledek</strong> a tento výsledek chceme použít v místě, odkud jsme funkci zavolali. K tomuto přenesení výsledku do místa zavolání funkce slouží klíčové slovo <code>return</code>. Pokud Python ve funkci dorazí na řádek s <code>return</code> okamžitě ukončí funkci a do místa, odkud jsme ji zavolali <strong>vrátí hodnotu</strong>, kterou za slovo <code>return</code> zapíšeme.</p>"
   ]
  },
  {
   "cell_type": "code",
   "execution_count": null,
   "metadata": {
    "id": "ilPVVxs4HTBO"
   },
   "outputs": [],
   "source": [
    "def delka_pozdravu(jmeno):\n",
    "  return len(\"Nazdar {}\".format(jmeno))\n",
    "  print(\"Toto už se neprovede :-(\")\n",
    "\n",
    "\n",
    "pocet_znaku1 = delka_pozdravu(\"Emil\") # navratová hodnota je stejná hodnota jako každá jiná\n",
    "# pocet_znaku1 = 11 # po výpočtu ve funkci\n",
    "\n",
    "pocet_znaku2 = delka_pozdravu(\"Franta\")\n",
    "\n",
    "pocet_znaku_na_pozvance = pocet_znaku1 + pocet_znaku2\n",
    "print(\"Na pozvánku je potřeba místo pro {} + {} = {} znaků\".format(pocet_znaku1, pocet_znaku2, pocet_znaku_na_pozvance))"
   ]
  },
  {
   "cell_type": "markdown",
   "metadata": {
    "id": "rTazPBD9hRBT"
   },
   "source": [
    "<h2>Více návratových hodnot</h2>\n",
    "<p>Často se nám hodí, získat z výpočtu funkce více než jeden výsledek.<br> Za klíčové slovo <code>return</code> můžeme zapsat hodnot více - oddělených čárkou.<br>Těchto více hodnot uložíme do stejného počtu proměnných v místě volání funkce.<br>Pokud některou z hodnot nepotřebujeme, můžeme místo názvu proměnné použít <code>_</code> (podtržítko).</p>"
   ]
  },
  {
   "cell_type": "code",
   "execution_count": null,
   "metadata": {
    "id": "tK5_lUNlio-s"
   },
   "outputs": [],
   "source": [
    "def delka_pozdravu_a_jmena(jmeno):\n",
    "  return len(\"Nazdar {}\".format(jmeno)), len(jmeno)\n",
    "\n",
    "kamarad = \"Gustav\"\n",
    "delka_pozdrav, delka_jmena = delka_pozdravu_a_jmena(kamarad)\n",
    "\n",
    "print(\"{} má jméno dlouhé {}, takže potřebujeme místo pro {} znaků na pozdrav.\".format(kamarad, delka_jmena, delka_pozdrav))"
   ]
  },
  {
   "cell_type": "markdown",
   "metadata": {
    "id": "xTUw4RNTFFe3"
   },
   "source": [
    "<h2>Scope</h2>\n",
    "<p>Funkce je vlastně samostatná \"krabička\". Pokud v této \"krabičce\" vytvoříme proměnnou, tato proměnná neexistuje mimo tuto funkci.<br>\n",
    "Naopak je to trochu složitější.<br>\n",
    "Uvnitř funkce můžeme použít hodnotu proměnné, která je vytovořena mimo funkci (musí být vytvořena před použítím funkce) - to využíváme například ve chvíli, kdy máme v našem kódu nějaké konstanty - hodnoty, které nechceme měnit, ale pouze je používáme.<br>\n",
    "Pokud chceme vnější proměnnou změnit uvnitř funkce (pak už to přirozeně není konstanta), musíme ji označit (\"vtáhnout dovnitř funkce\") klíčovým slovem <code>global</code>.<br>\n",
    "Takový přístup <strong>krajně nedoporučuji</strong>, využívejte ho co nejméně to jde - kód, kde se proměnné \"náhodně\" mění podle zrovna zavolané funkce se postupně stává nesmírně nepřehledný a těžko se v něm odhalují chyby.</p>"
   ]
  },
  {
   "cell_type": "code",
   "execution_count": null,
   "metadata": {
    "id": "QOKbwu1EFGG0"
   },
   "outputs": [],
   "source": [
    "PI = 3.14 # PI používáme jako konstantu - jeho hodnota se nikdy neměnní\n",
    "pocet_pouziti_funkce = 0\n",
    "\n",
    "def obvod_kruhu(polomer):\n",
    "  global pocet_pouziti_funkce #\n",
    "  pocet_pouziti_funkce += 1\n",
    "  obvod = 2*PI*polomer # hodnotu PI můžeme číst\n",
    "  print(\"E uvnitř funkce:\",E) # hodnotu E nemůžeme číst - vytváříme ji až po zavolání funkce\n",
    "  return obvod\n",
    "\n",
    "O1 = obvod_kruhu(5)\n",
    "E = 2.17 # při druhém spuštění této buňky už E existuje, takže podruhé to projde...\n",
    "\n",
    "print(\"Počet použítí funkce:\",pocet_pouziti_funkce)\n",
    "print(\"Obvod O1:\",O1)\n",
    "print(\"obvod:\",obvod) # obvod zde neexistuje - existuje pouze uvnitř funkce"
   ]
  },
  {
   "cell_type": "markdown",
   "metadata": {
    "id": "KMQR0XLpwWlB"
   },
   "source": [
    "<h1>Cvičení</h1>"
   ]
  },
  {
   "cell_type": "markdown",
   "metadata": {
    "id": "mA1-q0a4e4qA"
   },
   "source": [
    "<h2>1</h2>\n",
    "<p>Vytvořte funkci <code>trikrat_plus_jedna</code>, která příjmá jeden argument, vynásobí ho třemi a přičte jedna. Tuto hodnotu vrátí.</p>"
   ]
  },
  {
   "cell_type": "code",
   "execution_count": null,
   "metadata": {
    "colab": {
     "base_uri": "https://localhost:8080/"
    },
    "executionInfo": {
     "elapsed": 28,
     "status": "ok",
     "timestamp": 1696496871138,
     "user": {
      "displayName": "",
      "userId": ""
     },
     "user_tz": -120
    },
    "id": "Z466EW8o635i",
    "outputId": "b22e85a9-6721-49d0-b824-b70d21eb5160"
   },
   "outputs": [
    {
     "name": "stdout",
     "output_type": "stream",
     "text": [
      "Pro hodnotu 0 je výsledek 1\n",
      "Pro hodnotu 3 je výsledek 10\n",
      "Pro hodnotu 6 je výsledek 19\n",
      "Pro hodnotu 9 je výsledek 28\n",
      "Pro hodnotu 12 je výsledek 37\n",
      "Pro hodnotu 15 je výsledek 46\n",
      "Pro hodnotu 18 je výsledek 55\n"
     ]
    }
   ],
   "source": [
    "# TODO: zde vytvořte funkci\n",
    "\n",
    "# Dále už kód neměňte\n",
    "for i in range(0,19,3):\n",
    "  print(\"Pro hodnotu {} je výsledek {}\".format(i, trikrat_plus_jedna(i)))"
   ]
  },
  {
   "cell_type": "markdown",
   "metadata": {
    "id": "ygLmHF2V7hVr"
   },
   "source": [
    "<p>Výsledky pro Vaší kontrolu - referenční řešení má 7 řádků</p>\n",
    "<table>\n",
    "<tr>\n",
    "<td>\n",
    "<pre>\n",
    "Pro hodnotu 0 je výsledek 1\n",
    "Pro hodnotu 3 je výsledek 10\n",
    "Pro hodnotu 6 je výsledek 19\n",
    "Pro hodnotu 9 je výsledek 28\n",
    "Pro hodnotu 12 je výsledek 37\n",
    "Pro hodnotu 15 je výsledek 46\n",
    "Pro hodnotu 18 je výsledek 55\n",
    "</pre>\n",
    "</tr>\n",
    "</table>"
   ]
  },
  {
   "cell_type": "markdown",
   "metadata": {
    "id": "x6jEH5_-9UaV"
   },
   "source": [
    "<h2>2</h2>\n",
    "<p>Vytvořte funkci <code>diskriminant</code>, která příjmá tři argumenty (koeficienty kavadratické rovnice - a - b - c) a spočítá diskriminant.<br>Návratové hodnoty jsou dvě - hodnota diskriminantu a True/False, zda je diskriminant větší nebo roven nule (tedy zda bude mít rovnice s těmito koeficienty řešení v $ \\mathbb{R} $)</p>"
   ]
  },
  {
   "cell_type": "code",
   "execution_count": null,
   "metadata": {
    "colab": {
     "base_uri": "https://localhost:8080/"
    },
    "executionInfo": {
     "elapsed": 226,
     "status": "ok",
     "timestamp": 1696497485339,
     "user": {
      "displayName": "",
      "userId": ""
     },
     "user_tz": -120
    },
    "id": "O1Hv2HMx9__G",
    "outputId": "35275c52-b88f-4594-cd0f-30d3f5a93e25"
   },
   "outputs": [
    {
     "name": "stdout",
     "output_type": "stream",
     "text": [
      "Diskriminant funkce -3x^2-3x-3 je -27, takže rovnice s touto funkcí nemá řešení v reálných číslech\n",
      "Diskriminant funkce -3x^2-3x-1 je -3, takže rovnice s touto funkcí nemá řešení v reálných číslech\n",
      "Diskriminant funkce -3x^2-3x+1 je 21, takže rovnice s touto funkcí má řešení v reálných číslech\n",
      "Diskriminant funkce -3x^2-1x-3 je -35, takže rovnice s touto funkcí nemá řešení v reálných číslech\n",
      "Diskriminant funkce -3x^2-1x-1 je -11, takže rovnice s touto funkcí nemá řešení v reálných číslech\n",
      "Diskriminant funkce -3x^2-1x+1 je 13, takže rovnice s touto funkcí má řešení v reálných číslech\n",
      "Diskriminant funkce -3x^2+1x-3 je -35, takže rovnice s touto funkcí nemá řešení v reálných číslech\n",
      "Diskriminant funkce -3x^2+1x-1 je -11, takže rovnice s touto funkcí nemá řešení v reálných číslech\n",
      "Diskriminant funkce -3x^2+1x+1 je 13, takže rovnice s touto funkcí má řešení v reálných číslech\n",
      "Diskriminant funkce -1x^2-3x-3 je -3, takže rovnice s touto funkcí nemá řešení v reálných číslech\n",
      "Diskriminant funkce -1x^2-3x-1 je 5, takže rovnice s touto funkcí má řešení v reálných číslech\n",
      "Diskriminant funkce -1x^2-3x+1 je 13, takže rovnice s touto funkcí má řešení v reálných číslech\n",
      "Diskriminant funkce -1x^2-1x-3 je -11, takže rovnice s touto funkcí nemá řešení v reálných číslech\n",
      "Diskriminant funkce -1x^2-1x-1 je -3, takže rovnice s touto funkcí nemá řešení v reálných číslech\n",
      "Diskriminant funkce -1x^2-1x+1 je 5, takže rovnice s touto funkcí má řešení v reálných číslech\n",
      "Diskriminant funkce -1x^2+1x-3 je -11, takže rovnice s touto funkcí nemá řešení v reálných číslech\n",
      "Diskriminant funkce -1x^2+1x-1 je -3, takže rovnice s touto funkcí nemá řešení v reálných číslech\n",
      "Diskriminant funkce -1x^2+1x+1 je 5, takže rovnice s touto funkcí má řešení v reálných číslech\n",
      "Diskriminant funkce 1x^2-3x-3 je 21, takže rovnice s touto funkcí má řešení v reálných číslech\n",
      "Diskriminant funkce 1x^2-3x-1 je 13, takže rovnice s touto funkcí má řešení v reálných číslech\n",
      "Diskriminant funkce 1x^2-3x+1 je 5, takže rovnice s touto funkcí má řešení v reálných číslech\n",
      "Diskriminant funkce 1x^2-1x-3 je 13, takže rovnice s touto funkcí má řešení v reálných číslech\n",
      "Diskriminant funkce 1x^2-1x-1 je 5, takže rovnice s touto funkcí má řešení v reálných číslech\n",
      "Diskriminant funkce 1x^2-1x+1 je -3, takže rovnice s touto funkcí nemá řešení v reálných číslech\n",
      "Diskriminant funkce 1x^2+1x-3 je 13, takže rovnice s touto funkcí má řešení v reálných číslech\n",
      "Diskriminant funkce 1x^2+1x-1 je 5, takže rovnice s touto funkcí má řešení v reálných číslech\n",
      "Diskriminant funkce 1x^2+1x+1 je -3, takže rovnice s touto funkcí nemá řešení v reálných číslech\n"
     ]
    }
   ],
   "source": [
    "# TODO: zde vytvořte funkci\n",
    "\n",
    "# Dále už kód neměňte\n",
    "for a in range(-3,3,2):\n",
    "  for b in range(-3,3,2):\n",
    "    for c in range(-3,3,2):\n",
    "      D, reseni = diskriminant(a,b,c)\n",
    "      print(\"Diskriminant funkce {}x^2{:+}x{:+} je {}, takže rovnice s touto funkcí {} řešení v reálných číslech\".format(a,b,c,D, \"má\" if reseni else \"nemá\"))"
   ]
  },
  {
   "cell_type": "markdown",
   "metadata": {
    "id": "KceFc8NE_WJF"
   },
   "source": [
    "<p>Výsledky pro Vaší kontrolu - referenční řešení má 11 řádků</p>\n",
    "<table>\n",
    "<tr>\n",
    "<td>\n",
    "<pre>\n",
    "Diskriminant funkce -3x^2-3x-3 je -27, takže rovnice s touto funkcí nemá řešení v reálných číslech\n",
    "Diskriminant funkce -3x^2-3x-1 je -3, takže rovnice s touto funkcí nemá řešení v reálných číslech\n",
    "Diskriminant funkce -3x^2-3x+1 je 21, takže rovnice s touto funkcí má řešení v reálných číslech\n",
    "Diskriminant funkce -3x^2-1x-3 je -35, takže rovnice s touto funkcí nemá řešení v reálných číslech\n",
    "Diskriminant funkce -3x^2-1x-1 je -11, takže rovnice s touto funkcí nemá řešení v reálných číslech\n",
    "Diskriminant funkce -3x^2-1x+1 je 13, takže rovnice s touto funkcí má řešení v reálných číslech\n",
    "Diskriminant funkce -3x^2+1x-3 je -35, takže rovnice s touto funkcí nemá řešení v reálných číslech\n",
    "Diskriminant funkce -3x^2+1x-1 je -11, takže rovnice s touto funkcí nemá řešení v reálných číslech\n",
    "Diskriminant funkce -3x^2+1x+1 je 13, takže rovnice s touto funkcí má řešení v reálných číslech\n",
    "Diskriminant funkce -1x^2-3x-3 je -3, takže rovnice s touto funkcí nemá řešení v reálných číslech\n",
    "Diskriminant funkce -1x^2-3x-1 je 5, takže rovnice s touto funkcí má řešení v reálných číslech\n",
    "Diskriminant funkce -1x^2-3x+1 je 13, takže rovnice s touto funkcí má řešení v reálných číslech\n",
    "Diskriminant funkce -1x^2-1x-3 je -11, takže rovnice s touto funkcí nemá řešení v reálných číslech\n",
    "Diskriminant funkce -1x^2-1x-1 je -3, takže rovnice s touto funkcí nemá řešení v reálných číslech\n",
    "Diskriminant funkce -1x^2-1x+1 je 5, takže rovnice s touto funkcí má řešení v reálných číslech\n",
    "Diskriminant funkce -1x^2+1x-3 je -11, takže rovnice s touto funkcí nemá řešení v reálných číslech\n",
    "Diskriminant funkce -1x^2+1x-1 je -3, takže rovnice s touto funkcí nemá řešení v reálných číslech\n",
    "Diskriminant funkce -1x^2+1x+1 je 5, takže rovnice s touto funkcí má řešení v reálných číslech\n",
    "Diskriminant funkce 1x^2-3x-3 je 21, takže rovnice s touto funkcí má řešení v reálných číslech\n",
    "Diskriminant funkce 1x^2-3x-1 je 13, takže rovnice s touto funkcí má řešení v reálných číslech\n",
    "Diskriminant funkce 1x^2-3x+1 je 5, takže rovnice s touto funkcí má řešení v reálných číslech\n",
    "Diskriminant funkce 1x^2-1x-3 je 13, takže rovnice s touto funkcí má řešení v reálných číslech\n",
    "Diskriminant funkce 1x^2-1x-1 je 5, takže rovnice s touto funkcí má řešení v reálných číslech\n",
    "Diskriminant funkce 1x^2-1x+1 je -3, takže rovnice s touto funkcí nemá řešení v reálných číslech\n",
    "Diskriminant funkce 1x^2+1x-3 je 13, takže rovnice s touto funkcí má řešení v reálných číslech\n",
    "Diskriminant funkce 1x^2+1x-1 je 5, takže rovnice s touto funkcí má řešení v reálných číslech\n",
    "Diskriminant funkce 1x^2+1x+1 je -3, takže rovnice s touto funkcí nemá řešení v reálných číslech\n",
    "</pre>\n",
    "</td>\n",
    "</tr>\n",
    "</table>"
   ]
  },
  {
   "cell_type": "markdown",
   "metadata": {
    "id": "3S10Ec-o_lXD"
   },
   "source": [
    "<h2>3</h2>\n",
    "<p>Vytvořte funkci <code>dvojpozdrav</code>, která příjmá dva argumenty (dvě jména). Tato funkce vypíše pozdrav například \"Ahoj Hynek a Iveta\" a vrátí celkovou délku nápisu.</p>\n"
   ]
  },
  {
   "cell_type": "code",
   "execution_count": null,
   "metadata": {
    "colab": {
     "base_uri": "https://localhost:8080/"
    },
    "executionInfo": {
     "elapsed": 381,
     "status": "ok",
     "timestamp": 1696498053879,
     "user": {
      "displayName": "",
      "userId": ""
     },
     "user_tz": -120
    },
    "id": "Ch2oqRoYABAE",
    "outputId": "d5ed386b-03e3-47f8-cf9a-c1cf9bb4c027"
   },
   "outputs": [
    {
     "name": "stdout",
     "output_type": "stream",
     "text": [
      "Ahoj Adam a Aneta\n",
      "Pozdrav zabere 17 znaků.\n",
      "Ahoj Adam a Bára\n",
      "Pozdrav zabere 16 znaků.\n",
      "Ahoj Adam a Cecílie\n",
      "Pozdrav zabere 19 znaků.\n",
      "Ahoj Bert a Aneta\n",
      "Pozdrav zabere 17 znaků.\n",
      "Ahoj Bert a Bára\n",
      "Pozdrav zabere 16 znaků.\n",
      "Ahoj Bert a Cecílie\n",
      "Pozdrav zabere 19 znaků.\n",
      "Ahoj Cyril a Aneta\n",
      "Pozdrav zabere 18 znaků.\n",
      "Ahoj Cyril a Bára\n",
      "Pozdrav zabere 17 znaků.\n",
      "Ahoj Cyril a Cecílie\n",
      "Pozdrav zabere 20 znaků.\n"
     ]
    }
   ],
   "source": [
    "# TODO: zde vytvořte funkci\n",
    "\n",
    "# Dále už kód neměňte\n",
    "for prvni in [\"Adam\", \"Bert\", \"Cyril\"]:\n",
    "  for druha in [\"Aneta\", \"Bára\", \"Cecílie\"]:\n",
    "    delka = dvojpozdrav(prvni, druha)\n",
    "    print(\"Pozdrav zabere {} znaků.\".format(delka))"
   ]
  },
  {
   "cell_type": "markdown",
   "metadata": {
    "id": "5evlE8QKA0Do"
   },
   "source": [
    "<p>Výsledky pro Vaší kontrolu - referenční řešení má 11 řádků</p>\n",
    "<table>\n",
    "<tr>\n",
    "<td>\n",
    "<pre>\n",
    "Ahoj Adam a Aneta\n",
    "Pozdrav zabere 17 znaků.\n",
    "Ahoj Adam a Bára\n",
    "Pozdrav zabere 16 znaků.\n",
    "Ahoj Adam a Cecílie\n",
    "Pozdrav zabere 19 znaků.\n",
    "Ahoj Bert a Aneta\n",
    "Pozdrav zabere 17 znaků.\n",
    "Ahoj Bert a Bára\n",
    "Pozdrav zabere 16 znaků.\n",
    "Ahoj Bert a Cecílie\n",
    "Pozdrav zabere 19 znaků.\n",
    "Ahoj Cyril a Aneta\n",
    "Pozdrav zabere 18 znaků.\n",
    "Ahoj Cyril a Bára\n",
    "Pozdrav zabere 17 znaků.\n",
    "Ahoj Cyril a Cecílie\n",
    "Pozdrav zabere 20 znaků.\n",
    "</pre>\n",
    "</td>\n",
    "\n",
    "</tr>\n",
    "</table>"
   ]
  }
 ],
 "metadata": {
  "colab": {
   "provenance": [
    {
     "file_id": "https://github.com/JaroslavHolecek/Teaching/blob/master/JupyterNotebook/Python/Funkce_zadani.ipynb",
     "timestamp": 1696498709716
    }
   ]
  },
  "kernelspec": {
   "display_name": "Python 3",
   "name": "python3"
  },
  "language_info": {
   "name": "python"
  }
 },
 "nbformat": 4,
 "nbformat_minor": 0
}
